{
 "cells": [
  {
   "cell_type": "raw",
   "id": "6d55a2fa",
   "metadata": {
    "_cell_guid": "b1076dfc-b9ad-4769-8c92-a6c4dae69d19",
    "_uuid": "8f2839f25d086af736a60e9eeb907d3b93b6e0e5",
    "execution": {
     "iopub.execute_input": "2024-11-05T14:34:55.922268Z",
     "iopub.status.busy": "2024-11-05T14:34:55.921143Z"
    },
    "papermill": {
     "duration": 0.009719,
     "end_time": "2024-11-06T05:46:59.242378",
     "exception": false,
     "start_time": "2024-11-06T05:46:59.232659",
     "status": "completed"
    },
    "tags": []
   },
   "source": [
    "# This Python 3 environment comes with many helpful analytics libraries installed\n",
    "# It is defined by the kaggle/python Docker image: https://github.com/kaggle/docker-python\n",
    "# For example, here's several helpful packages to load\n",
    "\n",
    "import numpy as np # linear algebra\n",
    "import pandas as pd # data processing, CSV file I/O (e.g. pd.read_csv)\n",
    "\n",
    "# Input data files are available in the read-only \"../input/\" directory\n",
    "# For example, running this (by clicking run or pressing Shift+Enter) will list all files under the input directory\n",
    "\n",
    "import os\n",
    "for dirname, _, filenames in os.walk('/kaggle/input'):\n",
    "    for filename in filenames:\n",
    "        print(os.path.join(dirname, filename))\n",
    "\n",
    "# You can write up to 20GB to the current directory (/kaggle/working/) that gets preserved as output when you create a version using \"Save & Run All\" \n",
    "# You can also write temporary files to /kaggle/temp/, but they won't be saved outside of the current session"
   ]
  },
  {
   "cell_type": "code",
   "execution_count": 1,
   "id": "8b11ba89",
   "metadata": {
    "execution": {
     "iopub.execute_input": "2024-11-06T05:46:59.257053Z",
     "iopub.status.busy": "2024-11-06T05:46:59.256139Z",
     "iopub.status.idle": "2024-11-06T05:47:02.354542Z",
     "shell.execute_reply": "2024-11-06T05:47:02.353368Z"
    },
    "papermill": {
     "duration": 3.108179,
     "end_time": "2024-11-06T05:47:02.357204",
     "exception": false,
     "start_time": "2024-11-06T05:46:59.249025",
     "status": "completed"
    },
    "tags": []
   },
   "outputs": [],
   "source": [
    "import numpy as np\n",
    "import pandas as pd\n",
    "import seaborn as sns\n",
    "import matplotlib.pyplot as plt\n",
    "from sklearn.linear_model import LogisticRegression\n",
    "from sklearn.metrics import confusion_matrix , accuracy_score, precision_score, recall_score, f1_score , classification_report\n",
    "from sklearn.model_selection import train_test_split\n",
    "from scipy.stats import boxcox"
   ]
  },
  {
   "cell_type": "code",
   "execution_count": 2,
   "id": "5a126935",
   "metadata": {
    "execution": {
     "iopub.execute_input": "2024-11-06T05:47:02.370623Z",
     "iopub.status.busy": "2024-11-06T05:47:02.370036Z",
     "iopub.status.idle": "2024-11-06T05:47:02.412337Z",
     "shell.execute_reply": "2024-11-06T05:47:02.411243Z"
    },
    "papermill": {
     "duration": 0.051715,
     "end_time": "2024-11-06T05:47:02.414756",
     "exception": false,
     "start_time": "2024-11-06T05:47:02.363041",
     "status": "completed"
    },
    "tags": []
   },
   "outputs": [
    {
     "data": {
      "text/html": [
       "<div>\n",
       "<style scoped>\n",
       "    .dataframe tbody tr th:only-of-type {\n",
       "        vertical-align: middle;\n",
       "    }\n",
       "\n",
       "    .dataframe tbody tr th {\n",
       "        vertical-align: top;\n",
       "    }\n",
       "\n",
       "    .dataframe thead th {\n",
       "        text-align: right;\n",
       "    }\n",
       "</style>\n",
       "<table border=\"1\" class=\"dataframe\">\n",
       "  <thead>\n",
       "    <tr style=\"text-align: right;\">\n",
       "      <th></th>\n",
       "      <th>User ID</th>\n",
       "      <th>Gender</th>\n",
       "      <th>Age</th>\n",
       "      <th>EstimatedSalary</th>\n",
       "      <th>Purchased</th>\n",
       "    </tr>\n",
       "  </thead>\n",
       "  <tbody>\n",
       "    <tr>\n",
       "      <th>0</th>\n",
       "      <td>15624510</td>\n",
       "      <td>Male</td>\n",
       "      <td>19</td>\n",
       "      <td>19000</td>\n",
       "      <td>0</td>\n",
       "    </tr>\n",
       "    <tr>\n",
       "      <th>1</th>\n",
       "      <td>15810944</td>\n",
       "      <td>Male</td>\n",
       "      <td>35</td>\n",
       "      <td>20000</td>\n",
       "      <td>0</td>\n",
       "    </tr>\n",
       "    <tr>\n",
       "      <th>2</th>\n",
       "      <td>15668575</td>\n",
       "      <td>Female</td>\n",
       "      <td>26</td>\n",
       "      <td>43000</td>\n",
       "      <td>0</td>\n",
       "    </tr>\n",
       "    <tr>\n",
       "      <th>3</th>\n",
       "      <td>15603246</td>\n",
       "      <td>Female</td>\n",
       "      <td>27</td>\n",
       "      <td>57000</td>\n",
       "      <td>0</td>\n",
       "    </tr>\n",
       "    <tr>\n",
       "      <th>4</th>\n",
       "      <td>15804002</td>\n",
       "      <td>Male</td>\n",
       "      <td>19</td>\n",
       "      <td>76000</td>\n",
       "      <td>0</td>\n",
       "    </tr>\n",
       "    <tr>\n",
       "      <th>...</th>\n",
       "      <td>...</td>\n",
       "      <td>...</td>\n",
       "      <td>...</td>\n",
       "      <td>...</td>\n",
       "      <td>...</td>\n",
       "    </tr>\n",
       "    <tr>\n",
       "      <th>395</th>\n",
       "      <td>15691863</td>\n",
       "      <td>Female</td>\n",
       "      <td>46</td>\n",
       "      <td>41000</td>\n",
       "      <td>1</td>\n",
       "    </tr>\n",
       "    <tr>\n",
       "      <th>396</th>\n",
       "      <td>15706071</td>\n",
       "      <td>Male</td>\n",
       "      <td>51</td>\n",
       "      <td>23000</td>\n",
       "      <td>1</td>\n",
       "    </tr>\n",
       "    <tr>\n",
       "      <th>397</th>\n",
       "      <td>15654296</td>\n",
       "      <td>Female</td>\n",
       "      <td>50</td>\n",
       "      <td>20000</td>\n",
       "      <td>1</td>\n",
       "    </tr>\n",
       "    <tr>\n",
       "      <th>398</th>\n",
       "      <td>15755018</td>\n",
       "      <td>Male</td>\n",
       "      <td>36</td>\n",
       "      <td>33000</td>\n",
       "      <td>0</td>\n",
       "    </tr>\n",
       "    <tr>\n",
       "      <th>399</th>\n",
       "      <td>15594041</td>\n",
       "      <td>Female</td>\n",
       "      <td>49</td>\n",
       "      <td>36000</td>\n",
       "      <td>1</td>\n",
       "    </tr>\n",
       "  </tbody>\n",
       "</table>\n",
       "<p>400 rows × 5 columns</p>\n",
       "</div>"
      ],
      "text/plain": [
       "      User ID  Gender  Age  EstimatedSalary  Purchased\n",
       "0    15624510    Male   19            19000          0\n",
       "1    15810944    Male   35            20000          0\n",
       "2    15668575  Female   26            43000          0\n",
       "3    15603246  Female   27            57000          0\n",
       "4    15804002    Male   19            76000          0\n",
       "..        ...     ...  ...              ...        ...\n",
       "395  15691863  Female   46            41000          1\n",
       "396  15706071    Male   51            23000          1\n",
       "397  15654296  Female   50            20000          1\n",
       "398  15755018    Male   36            33000          0\n",
       "399  15594041  Female   49            36000          1\n",
       "\n",
       "[400 rows x 5 columns]"
      ]
     },
     "execution_count": 2,
     "metadata": {},
     "output_type": "execute_result"
    }
   ],
   "source": [
    "df = pd.read_csv('/kaggle/input/logistic-regression/Social_Network_Ads.csv')\n",
    "df"
   ]
  },
  {
   "cell_type": "code",
   "execution_count": 3,
   "id": "d75d426b",
   "metadata": {
    "execution": {
     "iopub.execute_input": "2024-11-06T05:47:02.429276Z",
     "iopub.status.busy": "2024-11-06T05:47:02.428331Z",
     "iopub.status.idle": "2024-11-06T05:47:02.436972Z",
     "shell.execute_reply": "2024-11-06T05:47:02.435839Z"
    },
    "papermill": {
     "duration": 0.018165,
     "end_time": "2024-11-06T05:47:02.439173",
     "exception": false,
     "start_time": "2024-11-06T05:47:02.421008",
     "status": "completed"
    },
    "tags": []
   },
   "outputs": [
    {
     "data": {
      "text/plain": [
       "User ID             int64\n",
       "Gender             object\n",
       "Age                 int64\n",
       "EstimatedSalary     int64\n",
       "Purchased           int64\n",
       "dtype: object"
      ]
     },
     "execution_count": 3,
     "metadata": {},
     "output_type": "execute_result"
    }
   ],
   "source": [
    "df.dtypes"
   ]
  },
  {
   "cell_type": "code",
   "execution_count": 4,
   "id": "b90e453b",
   "metadata": {
    "execution": {
     "iopub.execute_input": "2024-11-06T05:47:02.453713Z",
     "iopub.status.busy": "2024-11-06T05:47:02.452691Z",
     "iopub.status.idle": "2024-11-06T05:47:02.469716Z",
     "shell.execute_reply": "2024-11-06T05:47:02.468637Z"
    },
    "papermill": {
     "duration": 0.026529,
     "end_time": "2024-11-06T05:47:02.471786",
     "exception": false,
     "start_time": "2024-11-06T05:47:02.445257",
     "status": "completed"
    },
    "tags": []
   },
   "outputs": [],
   "source": [
    "df = df.join(pd.get_dummies(df['Gender']).astype('int64'))"
   ]
  },
  {
   "cell_type": "code",
   "execution_count": 5,
   "id": "68d60dc0",
   "metadata": {
    "execution": {
     "iopub.execute_input": "2024-11-06T05:47:02.487379Z",
     "iopub.status.busy": "2024-11-06T05:47:02.486313Z",
     "iopub.status.idle": "2024-11-06T05:47:02.492599Z",
     "shell.execute_reply": "2024-11-06T05:47:02.491485Z"
    },
    "papermill": {
     "duration": 0.015801,
     "end_time": "2024-11-06T05:47:02.494707",
     "exception": false,
     "start_time": "2024-11-06T05:47:02.478906",
     "status": "completed"
    },
    "tags": []
   },
   "outputs": [],
   "source": [
    "df.drop(['Gender'] , axis =1 , inplace = True)"
   ]
  },
  {
   "cell_type": "code",
   "execution_count": 6,
   "id": "fa0e20a1",
   "metadata": {
    "execution": {
     "iopub.execute_input": "2024-11-06T05:47:02.509415Z",
     "iopub.status.busy": "2024-11-06T05:47:02.508331Z",
     "iopub.status.idle": "2024-11-06T05:47:02.522466Z",
     "shell.execute_reply": "2024-11-06T05:47:02.521187Z"
    },
    "papermill": {
     "duration": 0.023796,
     "end_time": "2024-11-06T05:47:02.524639",
     "exception": false,
     "start_time": "2024-11-06T05:47:02.500843",
     "status": "completed"
    },
    "tags": []
   },
   "outputs": [
    {
     "data": {
      "text/html": [
       "<div>\n",
       "<style scoped>\n",
       "    .dataframe tbody tr th:only-of-type {\n",
       "        vertical-align: middle;\n",
       "    }\n",
       "\n",
       "    .dataframe tbody tr th {\n",
       "        vertical-align: top;\n",
       "    }\n",
       "\n",
       "    .dataframe thead th {\n",
       "        text-align: right;\n",
       "    }\n",
       "</style>\n",
       "<table border=\"1\" class=\"dataframe\">\n",
       "  <thead>\n",
       "    <tr style=\"text-align: right;\">\n",
       "      <th></th>\n",
       "      <th>User ID</th>\n",
       "      <th>Age</th>\n",
       "      <th>EstimatedSalary</th>\n",
       "      <th>Purchased</th>\n",
       "      <th>Female</th>\n",
       "      <th>Male</th>\n",
       "    </tr>\n",
       "  </thead>\n",
       "  <tbody>\n",
       "    <tr>\n",
       "      <th>0</th>\n",
       "      <td>15624510</td>\n",
       "      <td>19</td>\n",
       "      <td>19000</td>\n",
       "      <td>0</td>\n",
       "      <td>0</td>\n",
       "      <td>1</td>\n",
       "    </tr>\n",
       "    <tr>\n",
       "      <th>1</th>\n",
       "      <td>15810944</td>\n",
       "      <td>35</td>\n",
       "      <td>20000</td>\n",
       "      <td>0</td>\n",
       "      <td>0</td>\n",
       "      <td>1</td>\n",
       "    </tr>\n",
       "    <tr>\n",
       "      <th>2</th>\n",
       "      <td>15668575</td>\n",
       "      <td>26</td>\n",
       "      <td>43000</td>\n",
       "      <td>0</td>\n",
       "      <td>1</td>\n",
       "      <td>0</td>\n",
       "    </tr>\n",
       "    <tr>\n",
       "      <th>3</th>\n",
       "      <td>15603246</td>\n",
       "      <td>27</td>\n",
       "      <td>57000</td>\n",
       "      <td>0</td>\n",
       "      <td>1</td>\n",
       "      <td>0</td>\n",
       "    </tr>\n",
       "    <tr>\n",
       "      <th>4</th>\n",
       "      <td>15804002</td>\n",
       "      <td>19</td>\n",
       "      <td>76000</td>\n",
       "      <td>0</td>\n",
       "      <td>0</td>\n",
       "      <td>1</td>\n",
       "    </tr>\n",
       "    <tr>\n",
       "      <th>...</th>\n",
       "      <td>...</td>\n",
       "      <td>...</td>\n",
       "      <td>...</td>\n",
       "      <td>...</td>\n",
       "      <td>...</td>\n",
       "      <td>...</td>\n",
       "    </tr>\n",
       "    <tr>\n",
       "      <th>395</th>\n",
       "      <td>15691863</td>\n",
       "      <td>46</td>\n",
       "      <td>41000</td>\n",
       "      <td>1</td>\n",
       "      <td>1</td>\n",
       "      <td>0</td>\n",
       "    </tr>\n",
       "    <tr>\n",
       "      <th>396</th>\n",
       "      <td>15706071</td>\n",
       "      <td>51</td>\n",
       "      <td>23000</td>\n",
       "      <td>1</td>\n",
       "      <td>0</td>\n",
       "      <td>1</td>\n",
       "    </tr>\n",
       "    <tr>\n",
       "      <th>397</th>\n",
       "      <td>15654296</td>\n",
       "      <td>50</td>\n",
       "      <td>20000</td>\n",
       "      <td>1</td>\n",
       "      <td>1</td>\n",
       "      <td>0</td>\n",
       "    </tr>\n",
       "    <tr>\n",
       "      <th>398</th>\n",
       "      <td>15755018</td>\n",
       "      <td>36</td>\n",
       "      <td>33000</td>\n",
       "      <td>0</td>\n",
       "      <td>0</td>\n",
       "      <td>1</td>\n",
       "    </tr>\n",
       "    <tr>\n",
       "      <th>399</th>\n",
       "      <td>15594041</td>\n",
       "      <td>49</td>\n",
       "      <td>36000</td>\n",
       "      <td>1</td>\n",
       "      <td>1</td>\n",
       "      <td>0</td>\n",
       "    </tr>\n",
       "  </tbody>\n",
       "</table>\n",
       "<p>400 rows × 6 columns</p>\n",
       "</div>"
      ],
      "text/plain": [
       "      User ID  Age  EstimatedSalary  Purchased  Female  Male\n",
       "0    15624510   19            19000          0       0     1\n",
       "1    15810944   35            20000          0       0     1\n",
       "2    15668575   26            43000          0       1     0\n",
       "3    15603246   27            57000          0       1     0\n",
       "4    15804002   19            76000          0       0     1\n",
       "..        ...  ...              ...        ...     ...   ...\n",
       "395  15691863   46            41000          1       1     0\n",
       "396  15706071   51            23000          1       0     1\n",
       "397  15654296   50            20000          1       1     0\n",
       "398  15755018   36            33000          0       0     1\n",
       "399  15594041   49            36000          1       1     0\n",
       "\n",
       "[400 rows x 6 columns]"
      ]
     },
     "execution_count": 6,
     "metadata": {},
     "output_type": "execute_result"
    }
   ],
   "source": [
    "df"
   ]
  },
  {
   "cell_type": "code",
   "execution_count": 7,
   "id": "fefb569e",
   "metadata": {
    "execution": {
     "iopub.execute_input": "2024-11-06T05:47:02.539316Z",
     "iopub.status.busy": "2024-11-06T05:47:02.538921Z",
     "iopub.status.idle": "2024-11-06T05:47:02.557801Z",
     "shell.execute_reply": "2024-11-06T05:47:02.556695Z"
    },
    "papermill": {
     "duration": 0.028954,
     "end_time": "2024-11-06T05:47:02.560057",
     "exception": false,
     "start_time": "2024-11-06T05:47:02.531103",
     "status": "completed"
    },
    "tags": []
   },
   "outputs": [
    {
     "data": {
      "text/html": [
       "<div>\n",
       "<style scoped>\n",
       "    .dataframe tbody tr th:only-of-type {\n",
       "        vertical-align: middle;\n",
       "    }\n",
       "\n",
       "    .dataframe tbody tr th {\n",
       "        vertical-align: top;\n",
       "    }\n",
       "\n",
       "    .dataframe thead th {\n",
       "        text-align: right;\n",
       "    }\n",
       "</style>\n",
       "<table border=\"1\" class=\"dataframe\">\n",
       "  <thead>\n",
       "    <tr style=\"text-align: right;\">\n",
       "      <th></th>\n",
       "      <th>User ID</th>\n",
       "      <th>Age</th>\n",
       "      <th>EstimatedSalary</th>\n",
       "      <th>Purchased</th>\n",
       "      <th>Female</th>\n",
       "      <th>Male</th>\n",
       "    </tr>\n",
       "  </thead>\n",
       "  <tbody>\n",
       "    <tr>\n",
       "      <th>User ID</th>\n",
       "      <td>1.000000</td>\n",
       "      <td>-0.000721</td>\n",
       "      <td>0.071097</td>\n",
       "      <td>0.007120</td>\n",
       "      <td>0.025249</td>\n",
       "      <td>-0.025249</td>\n",
       "    </tr>\n",
       "    <tr>\n",
       "      <th>Age</th>\n",
       "      <td>-0.000721</td>\n",
       "      <td>1.000000</td>\n",
       "      <td>0.155238</td>\n",
       "      <td>0.622454</td>\n",
       "      <td>0.073741</td>\n",
       "      <td>-0.073741</td>\n",
       "    </tr>\n",
       "    <tr>\n",
       "      <th>EstimatedSalary</th>\n",
       "      <td>0.071097</td>\n",
       "      <td>0.155238</td>\n",
       "      <td>1.000000</td>\n",
       "      <td>0.362083</td>\n",
       "      <td>0.060435</td>\n",
       "      <td>-0.060435</td>\n",
       "    </tr>\n",
       "    <tr>\n",
       "      <th>Purchased</th>\n",
       "      <td>0.007120</td>\n",
       "      <td>0.622454</td>\n",
       "      <td>0.362083</td>\n",
       "      <td>1.000000</td>\n",
       "      <td>0.042469</td>\n",
       "      <td>-0.042469</td>\n",
       "    </tr>\n",
       "    <tr>\n",
       "      <th>Female</th>\n",
       "      <td>0.025249</td>\n",
       "      <td>0.073741</td>\n",
       "      <td>0.060435</td>\n",
       "      <td>0.042469</td>\n",
       "      <td>1.000000</td>\n",
       "      <td>-1.000000</td>\n",
       "    </tr>\n",
       "    <tr>\n",
       "      <th>Male</th>\n",
       "      <td>-0.025249</td>\n",
       "      <td>-0.073741</td>\n",
       "      <td>-0.060435</td>\n",
       "      <td>-0.042469</td>\n",
       "      <td>-1.000000</td>\n",
       "      <td>1.000000</td>\n",
       "    </tr>\n",
       "  </tbody>\n",
       "</table>\n",
       "</div>"
      ],
      "text/plain": [
       "                  User ID       Age  EstimatedSalary  Purchased    Female  \\\n",
       "User ID          1.000000 -0.000721         0.071097   0.007120  0.025249   \n",
       "Age             -0.000721  1.000000         0.155238   0.622454  0.073741   \n",
       "EstimatedSalary  0.071097  0.155238         1.000000   0.362083  0.060435   \n",
       "Purchased        0.007120  0.622454         0.362083   1.000000  0.042469   \n",
       "Female           0.025249  0.073741         0.060435   0.042469  1.000000   \n",
       "Male            -0.025249 -0.073741        -0.060435  -0.042469 -1.000000   \n",
       "\n",
       "                     Male  \n",
       "User ID         -0.025249  \n",
       "Age             -0.073741  \n",
       "EstimatedSalary -0.060435  \n",
       "Purchased       -0.042469  \n",
       "Female          -1.000000  \n",
       "Male             1.000000  "
      ]
     },
     "execution_count": 7,
     "metadata": {},
     "output_type": "execute_result"
    }
   ],
   "source": [
    "df.corr()"
   ]
  },
  {
   "cell_type": "code",
   "execution_count": 8,
   "id": "c85df6f3",
   "metadata": {
    "execution": {
     "iopub.execute_input": "2024-11-06T05:47:02.574991Z",
     "iopub.status.busy": "2024-11-06T05:47:02.574585Z",
     "iopub.status.idle": "2024-11-06T05:47:02.580002Z",
     "shell.execute_reply": "2024-11-06T05:47:02.578796Z"
    },
    "papermill": {
     "duration": 0.01538,
     "end_time": "2024-11-06T05:47:02.582225",
     "exception": false,
     "start_time": "2024-11-06T05:47:02.566845",
     "status": "completed"
    },
    "tags": []
   },
   "outputs": [],
   "source": [
    "fle  = df.copy()"
   ]
  },
  {
   "cell_type": "code",
   "execution_count": 9,
   "id": "49aa86db",
   "metadata": {
    "execution": {
     "iopub.execute_input": "2024-11-06T05:47:02.597874Z",
     "iopub.status.busy": "2024-11-06T05:47:02.596988Z",
     "iopub.status.idle": "2024-11-06T05:47:02.603387Z",
     "shell.execute_reply": "2024-11-06T05:47:02.602202Z"
    },
    "papermill": {
     "duration": 0.016568,
     "end_time": "2024-11-06T05:47:02.605461",
     "exception": false,
     "start_time": "2024-11-06T05:47:02.588893",
     "status": "completed"
    },
    "tags": []
   },
   "outputs": [],
   "source": [
    "fle.drop(['Female' , 'Male'] , axis = 1 , inplace = True)"
   ]
  },
  {
   "cell_type": "code",
   "execution_count": 10,
   "id": "0290ff91",
   "metadata": {
    "execution": {
     "iopub.execute_input": "2024-11-06T05:47:02.620795Z",
     "iopub.status.busy": "2024-11-06T05:47:02.620143Z",
     "iopub.status.idle": "2024-11-06T05:47:02.632280Z",
     "shell.execute_reply": "2024-11-06T05:47:02.631244Z"
    },
    "papermill": {
     "duration": 0.02254,
     "end_time": "2024-11-06T05:47:02.634672",
     "exception": false,
     "start_time": "2024-11-06T05:47:02.612132",
     "status": "completed"
    },
    "tags": []
   },
   "outputs": [
    {
     "data": {
      "text/html": [
       "<div>\n",
       "<style scoped>\n",
       "    .dataframe tbody tr th:only-of-type {\n",
       "        vertical-align: middle;\n",
       "    }\n",
       "\n",
       "    .dataframe tbody tr th {\n",
       "        vertical-align: top;\n",
       "    }\n",
       "\n",
       "    .dataframe thead th {\n",
       "        text-align: right;\n",
       "    }\n",
       "</style>\n",
       "<table border=\"1\" class=\"dataframe\">\n",
       "  <thead>\n",
       "    <tr style=\"text-align: right;\">\n",
       "      <th></th>\n",
       "      <th>User ID</th>\n",
       "      <th>Age</th>\n",
       "      <th>EstimatedSalary</th>\n",
       "      <th>Purchased</th>\n",
       "    </tr>\n",
       "  </thead>\n",
       "  <tbody>\n",
       "    <tr>\n",
       "      <th>User ID</th>\n",
       "      <td>1.000000</td>\n",
       "      <td>-0.000721</td>\n",
       "      <td>0.071097</td>\n",
       "      <td>0.007120</td>\n",
       "    </tr>\n",
       "    <tr>\n",
       "      <th>Age</th>\n",
       "      <td>-0.000721</td>\n",
       "      <td>1.000000</td>\n",
       "      <td>0.155238</td>\n",
       "      <td>0.622454</td>\n",
       "    </tr>\n",
       "    <tr>\n",
       "      <th>EstimatedSalary</th>\n",
       "      <td>0.071097</td>\n",
       "      <td>0.155238</td>\n",
       "      <td>1.000000</td>\n",
       "      <td>0.362083</td>\n",
       "    </tr>\n",
       "    <tr>\n",
       "      <th>Purchased</th>\n",
       "      <td>0.007120</td>\n",
       "      <td>0.622454</td>\n",
       "      <td>0.362083</td>\n",
       "      <td>1.000000</td>\n",
       "    </tr>\n",
       "  </tbody>\n",
       "</table>\n",
       "</div>"
      ],
      "text/plain": [
       "                  User ID       Age  EstimatedSalary  Purchased\n",
       "User ID          1.000000 -0.000721         0.071097   0.007120\n",
       "Age             -0.000721  1.000000         0.155238   0.622454\n",
       "EstimatedSalary  0.071097  0.155238         1.000000   0.362083\n",
       "Purchased        0.007120  0.622454         0.362083   1.000000"
      ]
     },
     "execution_count": 10,
     "metadata": {},
     "output_type": "execute_result"
    }
   ],
   "source": [
    "fle.corr()"
   ]
  },
  {
   "cell_type": "code",
   "execution_count": 11,
   "id": "0f0c7f42",
   "metadata": {
    "execution": {
     "iopub.execute_input": "2024-11-06T05:47:02.651152Z",
     "iopub.status.busy": "2024-11-06T05:47:02.650219Z",
     "iopub.status.idle": "2024-11-06T05:47:02.656206Z",
     "shell.execute_reply": "2024-11-06T05:47:02.655113Z"
    },
    "papermill": {
     "duration": 0.016582,
     "end_time": "2024-11-06T05:47:02.658433",
     "exception": false,
     "start_time": "2024-11-06T05:47:02.641851",
     "status": "completed"
    },
    "tags": []
   },
   "outputs": [],
   "source": [
    "fle.drop(['User ID' ] , axis = 1 , inplace = True)"
   ]
  },
  {
   "cell_type": "code",
   "execution_count": 12,
   "id": "b5d7db2f",
   "metadata": {
    "execution": {
     "iopub.execute_input": "2024-11-06T05:47:02.674671Z",
     "iopub.status.busy": "2024-11-06T05:47:02.674257Z",
     "iopub.status.idle": "2024-11-06T05:47:02.685279Z",
     "shell.execute_reply": "2024-11-06T05:47:02.684314Z"
    },
    "papermill": {
     "duration": 0.022199,
     "end_time": "2024-11-06T05:47:02.687683",
     "exception": false,
     "start_time": "2024-11-06T05:47:02.665484",
     "status": "completed"
    },
    "tags": []
   },
   "outputs": [
    {
     "data": {
      "text/html": [
       "<div>\n",
       "<style scoped>\n",
       "    .dataframe tbody tr th:only-of-type {\n",
       "        vertical-align: middle;\n",
       "    }\n",
       "\n",
       "    .dataframe tbody tr th {\n",
       "        vertical-align: top;\n",
       "    }\n",
       "\n",
       "    .dataframe thead th {\n",
       "        text-align: right;\n",
       "    }\n",
       "</style>\n",
       "<table border=\"1\" class=\"dataframe\">\n",
       "  <thead>\n",
       "    <tr style=\"text-align: right;\">\n",
       "      <th></th>\n",
       "      <th>Age</th>\n",
       "      <th>EstimatedSalary</th>\n",
       "      <th>Purchased</th>\n",
       "    </tr>\n",
       "  </thead>\n",
       "  <tbody>\n",
       "    <tr>\n",
       "      <th>Age</th>\n",
       "      <td>1.000000</td>\n",
       "      <td>0.155238</td>\n",
       "      <td>0.622454</td>\n",
       "    </tr>\n",
       "    <tr>\n",
       "      <th>EstimatedSalary</th>\n",
       "      <td>0.155238</td>\n",
       "      <td>1.000000</td>\n",
       "      <td>0.362083</td>\n",
       "    </tr>\n",
       "    <tr>\n",
       "      <th>Purchased</th>\n",
       "      <td>0.622454</td>\n",
       "      <td>0.362083</td>\n",
       "      <td>1.000000</td>\n",
       "    </tr>\n",
       "  </tbody>\n",
       "</table>\n",
       "</div>"
      ],
      "text/plain": [
       "                      Age  EstimatedSalary  Purchased\n",
       "Age              1.000000         0.155238   0.622454\n",
       "EstimatedSalary  0.155238         1.000000   0.362083\n",
       "Purchased        0.622454         0.362083   1.000000"
      ]
     },
     "execution_count": 12,
     "metadata": {},
     "output_type": "execute_result"
    }
   ],
   "source": [
    "fle.corr()"
   ]
  },
  {
   "cell_type": "code",
   "execution_count": 13,
   "id": "035310f2",
   "metadata": {
    "execution": {
     "iopub.execute_input": "2024-11-06T05:47:02.704294Z",
     "iopub.status.busy": "2024-11-06T05:47:02.703280Z",
     "iopub.status.idle": "2024-11-06T05:47:02.709134Z",
     "shell.execute_reply": "2024-11-06T05:47:02.708248Z"
    },
    "papermill": {
     "duration": 0.016389,
     "end_time": "2024-11-06T05:47:02.711436",
     "exception": false,
     "start_time": "2024-11-06T05:47:02.695047",
     "status": "completed"
    },
    "tags": []
   },
   "outputs": [],
   "source": [
    "X = fle.drop(['Purchased'  , \"EstimatedSalary\"] , axis = 1)\n",
    "Y = fle.Purchased"
   ]
  },
  {
   "cell_type": "code",
   "execution_count": 14,
   "id": "b51e8cb3",
   "metadata": {
    "execution": {
     "iopub.execute_input": "2024-11-06T05:47:02.727383Z",
     "iopub.status.busy": "2024-11-06T05:47:02.727000Z",
     "iopub.status.idle": "2024-11-06T05:47:02.736021Z",
     "shell.execute_reply": "2024-11-06T05:47:02.734872Z"
    },
    "papermill": {
     "duration": 0.019792,
     "end_time": "2024-11-06T05:47:02.738414",
     "exception": false,
     "start_time": "2024-11-06T05:47:02.718622",
     "status": "completed"
    },
    "tags": []
   },
   "outputs": [],
   "source": [
    "x , xt , y , yt = train_test_split(X , Y , test_size=0.2 , random_state=42)"
   ]
  },
  {
   "cell_type": "code",
   "execution_count": 15,
   "id": "a1b425e0",
   "metadata": {
    "execution": {
     "iopub.execute_input": "2024-11-06T05:47:02.754137Z",
     "iopub.status.busy": "2024-11-06T05:47:02.753723Z",
     "iopub.status.idle": "2024-11-06T05:47:02.758755Z",
     "shell.execute_reply": "2024-11-06T05:47:02.757542Z"
    },
    "papermill": {
     "duration": 0.015648,
     "end_time": "2024-11-06T05:47:02.761136",
     "exception": false,
     "start_time": "2024-11-06T05:47:02.745488",
     "status": "completed"
    },
    "tags": []
   },
   "outputs": [],
   "source": [
    "lg1  = LogisticRegression()\n"
   ]
  },
  {
   "cell_type": "code",
   "execution_count": 16,
   "id": "c075207a",
   "metadata": {
    "execution": {
     "iopub.execute_input": "2024-11-06T05:47:02.777389Z",
     "iopub.status.busy": "2024-11-06T05:47:02.777008Z",
     "iopub.status.idle": "2024-11-06T05:47:02.805602Z",
     "shell.execute_reply": "2024-11-06T05:47:02.804453Z"
    },
    "papermill": {
     "duration": 0.039238,
     "end_time": "2024-11-06T05:47:02.807952",
     "exception": false,
     "start_time": "2024-11-06T05:47:02.768714",
     "status": "completed"
    },
    "tags": []
   },
   "outputs": [
    {
     "data": {
      "text/html": [
       "<style>#sk-container-id-1 {color: black;background-color: white;}#sk-container-id-1 pre{padding: 0;}#sk-container-id-1 div.sk-toggleable {background-color: white;}#sk-container-id-1 label.sk-toggleable__label {cursor: pointer;display: block;width: 100%;margin-bottom: 0;padding: 0.3em;box-sizing: border-box;text-align: center;}#sk-container-id-1 label.sk-toggleable__label-arrow:before {content: \"▸\";float: left;margin-right: 0.25em;color: #696969;}#sk-container-id-1 label.sk-toggleable__label-arrow:hover:before {color: black;}#sk-container-id-1 div.sk-estimator:hover label.sk-toggleable__label-arrow:before {color: black;}#sk-container-id-1 div.sk-toggleable__content {max-height: 0;max-width: 0;overflow: hidden;text-align: left;background-color: #f0f8ff;}#sk-container-id-1 div.sk-toggleable__content pre {margin: 0.2em;color: black;border-radius: 0.25em;background-color: #f0f8ff;}#sk-container-id-1 input.sk-toggleable__control:checked~div.sk-toggleable__content {max-height: 200px;max-width: 100%;overflow: auto;}#sk-container-id-1 input.sk-toggleable__control:checked~label.sk-toggleable__label-arrow:before {content: \"▾\";}#sk-container-id-1 div.sk-estimator input.sk-toggleable__control:checked~label.sk-toggleable__label {background-color: #d4ebff;}#sk-container-id-1 div.sk-label input.sk-toggleable__control:checked~label.sk-toggleable__label {background-color: #d4ebff;}#sk-container-id-1 input.sk-hidden--visually {border: 0;clip: rect(1px 1px 1px 1px);clip: rect(1px, 1px, 1px, 1px);height: 1px;margin: -1px;overflow: hidden;padding: 0;position: absolute;width: 1px;}#sk-container-id-1 div.sk-estimator {font-family: monospace;background-color: #f0f8ff;border: 1px dotted black;border-radius: 0.25em;box-sizing: border-box;margin-bottom: 0.5em;}#sk-container-id-1 div.sk-estimator:hover {background-color: #d4ebff;}#sk-container-id-1 div.sk-parallel-item::after {content: \"\";width: 100%;border-bottom: 1px solid gray;flex-grow: 1;}#sk-container-id-1 div.sk-label:hover label.sk-toggleable__label {background-color: #d4ebff;}#sk-container-id-1 div.sk-serial::before {content: \"\";position: absolute;border-left: 1px solid gray;box-sizing: border-box;top: 0;bottom: 0;left: 50%;z-index: 0;}#sk-container-id-1 div.sk-serial {display: flex;flex-direction: column;align-items: center;background-color: white;padding-right: 0.2em;padding-left: 0.2em;position: relative;}#sk-container-id-1 div.sk-item {position: relative;z-index: 1;}#sk-container-id-1 div.sk-parallel {display: flex;align-items: stretch;justify-content: center;background-color: white;position: relative;}#sk-container-id-1 div.sk-item::before, #sk-container-id-1 div.sk-parallel-item::before {content: \"\";position: absolute;border-left: 1px solid gray;box-sizing: border-box;top: 0;bottom: 0;left: 50%;z-index: -1;}#sk-container-id-1 div.sk-parallel-item {display: flex;flex-direction: column;z-index: 1;position: relative;background-color: white;}#sk-container-id-1 div.sk-parallel-item:first-child::after {align-self: flex-end;width: 50%;}#sk-container-id-1 div.sk-parallel-item:last-child::after {align-self: flex-start;width: 50%;}#sk-container-id-1 div.sk-parallel-item:only-child::after {width: 0;}#sk-container-id-1 div.sk-dashed-wrapped {border: 1px dashed gray;margin: 0 0.4em 0.5em 0.4em;box-sizing: border-box;padding-bottom: 0.4em;background-color: white;}#sk-container-id-1 div.sk-label label {font-family: monospace;font-weight: bold;display: inline-block;line-height: 1.2em;}#sk-container-id-1 div.sk-label-container {text-align: center;}#sk-container-id-1 div.sk-container {/* jupyter's `normalize.less` sets `[hidden] { display: none; }` but bootstrap.min.css set `[hidden] { display: none !important; }` so we also need the `!important` here to be able to override the default hidden behavior on the sphinx rendered scikit-learn.org. See: https://github.com/scikit-learn/scikit-learn/issues/21755 */display: inline-block !important;position: relative;}#sk-container-id-1 div.sk-text-repr-fallback {display: none;}</style><div id=\"sk-container-id-1\" class=\"sk-top-container\"><div class=\"sk-text-repr-fallback\"><pre>LogisticRegression()</pre><b>In a Jupyter environment, please rerun this cell to show the HTML representation or trust the notebook. <br />On GitHub, the HTML representation is unable to render, please try loading this page with nbviewer.org.</b></div><div class=\"sk-container\" hidden><div class=\"sk-item\"><div class=\"sk-estimator sk-toggleable\"><input class=\"sk-toggleable__control sk-hidden--visually\" id=\"sk-estimator-id-1\" type=\"checkbox\" checked><label for=\"sk-estimator-id-1\" class=\"sk-toggleable__label sk-toggleable__label-arrow\">LogisticRegression</label><div class=\"sk-toggleable__content\"><pre>LogisticRegression()</pre></div></div></div></div></div>"
      ],
      "text/plain": [
       "LogisticRegression()"
      ]
     },
     "execution_count": 16,
     "metadata": {},
     "output_type": "execute_result"
    }
   ],
   "source": [
    "lg1.fit(x,y)"
   ]
  },
  {
   "cell_type": "code",
   "execution_count": 17,
   "id": "2f9e6600",
   "metadata": {
    "execution": {
     "iopub.execute_input": "2024-11-06T05:47:02.824356Z",
     "iopub.status.busy": "2024-11-06T05:47:02.823984Z",
     "iopub.status.idle": "2024-11-06T05:47:02.830505Z",
     "shell.execute_reply": "2024-11-06T05:47:02.829410Z"
    },
    "papermill": {
     "duration": 0.017506,
     "end_time": "2024-11-06T05:47:02.832755",
     "exception": false,
     "start_time": "2024-11-06T05:47:02.815249",
     "status": "completed"
    },
    "tags": []
   },
   "outputs": [],
   "source": [
    "yp = lg1.predict(xt)"
   ]
  },
  {
   "cell_type": "code",
   "execution_count": 18,
   "id": "91f0d117",
   "metadata": {
    "execution": {
     "iopub.execute_input": "2024-11-06T05:47:02.849676Z",
     "iopub.status.busy": "2024-11-06T05:47:02.848706Z",
     "iopub.status.idle": "2024-11-06T05:47:02.863664Z",
     "shell.execute_reply": "2024-11-06T05:47:02.862533Z"
    },
    "papermill": {
     "duration": 0.026227,
     "end_time": "2024-11-06T05:47:02.866422",
     "exception": false,
     "start_time": "2024-11-06T05:47:02.840195",
     "status": "completed"
    },
    "tags": []
   },
   "outputs": [
    {
     "name": "stdout",
     "output_type": "stream",
     "text": [
      "              precision    recall  f1-score   support\n",
      "\n",
      "           0       0.91      0.96      0.93        52\n",
      "           1       0.92      0.82      0.87        28\n",
      "\n",
      "    accuracy                           0.91        80\n",
      "   macro avg       0.91      0.89      0.90        80\n",
      "weighted avg       0.91      0.91      0.91        80\n",
      "\n"
     ]
    }
   ],
   "source": [
    "print(classification_report(yt , yp))"
   ]
  },
  {
   "cell_type": "code",
   "execution_count": null,
   "id": "b10b5282",
   "metadata": {
    "papermill": {
     "duration": 0.007,
     "end_time": "2024-11-06T05:47:02.880839",
     "exception": false,
     "start_time": "2024-11-06T05:47:02.873839",
     "status": "completed"
    },
    "tags": []
   },
   "outputs": [],
   "source": []
  },
  {
   "cell_type": "code",
   "execution_count": null,
   "id": "0f395aea",
   "metadata": {
    "papermill": {
     "duration": 0.006834,
     "end_time": "2024-11-06T05:47:02.894841",
     "exception": false,
     "start_time": "2024-11-06T05:47:02.888007",
     "status": "completed"
    },
    "tags": []
   },
   "outputs": [],
   "source": []
  },
  {
   "cell_type": "code",
   "execution_count": null,
   "id": "b579ac64",
   "metadata": {
    "papermill": {
     "duration": 0.00694,
     "end_time": "2024-11-06T05:47:02.908983",
     "exception": false,
     "start_time": "2024-11-06T05:47:02.902043",
     "status": "completed"
    },
    "tags": []
   },
   "outputs": [],
   "source": []
  },
  {
   "cell_type": "code",
   "execution_count": null,
   "id": "08b666d5",
   "metadata": {
    "papermill": {
     "duration": 0.006912,
     "end_time": "2024-11-06T05:47:02.923063",
     "exception": false,
     "start_time": "2024-11-06T05:47:02.916151",
     "status": "completed"
    },
    "tags": []
   },
   "outputs": [],
   "source": []
  },
  {
   "cell_type": "code",
   "execution_count": null,
   "id": "95805d9e",
   "metadata": {
    "papermill": {
     "duration": 0.006949,
     "end_time": "2024-11-06T05:47:02.937123",
     "exception": false,
     "start_time": "2024-11-06T05:47:02.930174",
     "status": "completed"
    },
    "tags": []
   },
   "outputs": [],
   "source": []
  },
  {
   "cell_type": "code",
   "execution_count": null,
   "id": "fabde0ef",
   "metadata": {
    "papermill": {
     "duration": 0.006896,
     "end_time": "2024-11-06T05:47:02.951128",
     "exception": false,
     "start_time": "2024-11-06T05:47:02.944232",
     "status": "completed"
    },
    "tags": []
   },
   "outputs": [],
   "source": []
  },
  {
   "cell_type": "code",
   "execution_count": null,
   "id": "636e13ad",
   "metadata": {
    "papermill": {
     "duration": 0.006947,
     "end_time": "2024-11-06T05:47:02.965194",
     "exception": false,
     "start_time": "2024-11-06T05:47:02.958247",
     "status": "completed"
    },
    "tags": []
   },
   "outputs": [],
   "source": []
  }
 ],
 "metadata": {
  "kaggle": {
   "accelerator": "none",
   "dataSources": [
    {
     "datasetId": 7812,
     "sourceId": 11044,
     "sourceType": "datasetVersion"
    }
   ],
   "dockerImageVersionId": 30786,
   "isGpuEnabled": false,
   "isInternetEnabled": true,
   "language": "python",
   "sourceType": "notebook"
  },
  "kernelspec": {
   "display_name": "Python 3",
   "language": "python",
   "name": "python3"
  },
  "language_info": {
   "codemirror_mode": {
    "name": "ipython",
    "version": 3
   },
   "file_extension": ".py",
   "mimetype": "text/x-python",
   "name": "python",
   "nbconvert_exporter": "python",
   "pygments_lexer": "ipython3",
   "version": "3.10.14"
  },
  "papermill": {
   "default_parameters": {},
   "duration": 7.221434,
   "end_time": "2024-11-06T05:47:03.593172",
   "environment_variables": {},
   "exception": null,
   "input_path": "__notebook__.ipynb",
   "output_path": "__notebook__.ipynb",
   "parameters": {},
   "start_time": "2024-11-06T05:46:56.371738",
   "version": "2.6.0"
  }
 },
 "nbformat": 4,
 "nbformat_minor": 5
}
